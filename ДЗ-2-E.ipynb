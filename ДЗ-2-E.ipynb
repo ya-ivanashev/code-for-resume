{
 "cells": [
  {
   "cell_type": "code",
   "execution_count": 1,
   "metadata": {},
   "outputs": [
    {
     "name": "stderr",
     "output_type": "stream",
     "text": [
      "[nltk_data] Downloading package punkt to C:\\Users\\Ivanashev\n",
      "[nltk_data]     Ilya\\AppData\\Roaming\\nltk_data...\n",
      "[nltk_data]   Package punkt is already up-to-date!\n"
     ]
    },
    {
     "data": {
      "text/plain": [
       "True"
      ]
     },
     "execution_count": 1,
     "metadata": {},
     "output_type": "execute_result"
    }
   ],
   "source": [
    "import pymorphy2\n",
    "import string\n",
    "import nltk\n",
    "import collections\n",
    "from nltk import ngrams\n",
    "import operator\n",
    "\n",
    "morph = pymorphy2.MorphAnalyzer()\n",
    "nltk.download('punkt')"
   ]
  },
  {
   "cell_type": "code",
   "execution_count": 2,
   "metadata": {},
   "outputs": [],
   "source": [
    "f = open('voina-i-mir.txt', 'r')\n",
    "text = f.read()\n",
    "f.close()"
   ]
  },
  {
   "cell_type": "code",
   "execution_count": 3,
   "metadata": {},
   "outputs": [],
   "source": [
    "punctuation = '!\"#$%&\\'()*+,./:;<=>?@[\\\\]^_`{|}~«»—'\n",
    "translator = str.maketrans('', '', punctuation)\n",
    "words = text.translate(translator)"
   ]
  },
  {
   "cell_type": "code",
   "execution_count": 4,
   "metadata": {},
   "outputs": [],
   "source": [
    "tokens = nltk.word_tokenize(words)"
   ]
  },
  {
   "cell_type": "code",
   "execution_count": 6,
   "metadata": {},
   "outputs": [],
   "source": [
    "lemmas = []\n",
    "lemma_counter = collections.Counter()\n",
    "for token in tokens:\n",
    "    p = morph.parse(token)[0]\n",
    "    lemmas.append(p.normal_form)\n",
    "    lemma_counter[p.normal_form] += 1"
   ]
  },
  {
   "cell_type": "code",
   "execution_count": 34,
   "metadata": {},
   "outputs": [
    {
     "data": {
      "text/plain": [
       "[('и', 21414),\n",
       " ('он', 14885),\n",
       " ('в', 11683),\n",
       " ('не', 8738),\n",
       " ('быть', 7506),\n",
       " ('что', 7386),\n",
       " ('на', 6812),\n",
       " ('с', 6313),\n",
       " ('она', 5568),\n",
       " ('я', 4596),\n",
       " ('весь', 4288),\n",
       " ('как', 4103),\n",
       " ('это', 4006),\n",
       " ('который', 3711),\n",
       " ('к', 3587),\n",
       " ('сказать', 3394),\n",
       " ('тот', 3294),\n",
       " ('свой', 3185),\n",
       " ('но', 2777),\n",
       " ('то', 2234),\n",
       " ('о', 2216),\n",
       " ('пьер', 2180),\n",
       " ('они', 2177),\n",
       " ('этот', 2161),\n",
       " ('князь', 2058),\n",
       " ('один', 2043),\n",
       " ('говорить', 2005),\n",
       " ('так', 1974),\n",
       " ('человек', 1923)]"
      ]
     },
     "execution_count": 34,
     "metadata": {},
     "output_type": "execute_result"
    }
   ],
   "source": [
    "lemma_counter.most_common(29)"
   ]
  },
  {
   "cell_type": "code",
   "execution_count": 8,
   "metadata": {},
   "outputs": [],
   "source": [
    "bigrams = list(ngrams(lemmas, 2))"
   ]
  },
  {
   "cell_type": "code",
   "execution_count": 35,
   "metadata": {},
   "outputs": [],
   "source": [
    "bigram_counter = collections.Counter()\n",
    "for bigram in bigrams:\n",
    "    if bigram[0] == 'человек' or bigram[1] == 'человек':\n",
    "        bigram_counter[bigram] += 1"
   ]
  },
  {
   "cell_type": "code",
   "execution_count": 36,
   "metadata": {},
   "outputs": [
    {
     "data": {
      "text/plain": [
       "[(('человек', 'который'), 140),\n",
       " (('человек', 'и'), 132),\n",
       " (('человек', 'в'), 112),\n",
       " (('молодая', 'человек'), 87),\n",
       " (('этот', 'человек'), 76),\n",
       " (('человек', 'с'), 60),\n",
       " (('весь', 'человек'), 47),\n",
       " (('тот', 'человек'), 45),\n",
       " (('человек', 'не'), 44),\n",
       " (('молодой', 'человек'), 42),\n",
       " (('это', 'человек'), 36),\n",
       " (('человек', 'этот'), 36),\n",
       " (('человек', 'он'), 34),\n",
       " (('и', 'человек'), 31),\n",
       " (('человек', 'но'), 29)]"
      ]
     },
     "execution_count": 36,
     "metadata": {},
     "output_type": "execute_result"
    }
   ],
   "source": [
    "bigram_counter.most_common(15)"
   ]
  },
  {
   "cell_type": "code",
   "execution_count": 37,
   "metadata": {},
   "outputs": [],
   "source": [
    "Dice = {}\n",
    "MI = {}\n",
    "for bigram in bigrams:\n",
    "    if bigram[0] == 'человек' or bigram[1] == 'человек':\n",
    "        if bigram[0] == 'человек':\n",
    "            second = bigram[1]\n",
    "        else:\n",
    "            second = bigram[0]\n",
    "        \n",
    "        Dice[bigram] = bigram_counter[bigram] / (lemma_counter[second] + lemma_counter['человек'])\n",
    "        MI[bigram] = bigram_counter[bigram] / (lemma_counter[second] * lemma_counter['человек'])\n",
    "\n",
    "sorted_Dice = sorted(Dice.items(), key = operator.itemgetter(1), reverse = True)\n",
    "sorted_MI = sorted(MI.items(), key = operator.itemgetter(1), reverse = True)"
   ]
  },
  {
   "cell_type": "code",
   "execution_count": 38,
   "metadata": {},
   "outputs": [
    {
     "data": {
      "text/plain": [
       "[(('молодая', 'человек'), 0.04040873200185787),\n",
       " (('человек', 'который'), 0.024849130280440185),\n",
       " (('молодой', 'человек'), 0.020588235294117647),\n",
       " (('этот', 'человек'), 0.01860920666013712),\n",
       " (('несколько', 'человек'), 0.010579771476936098),\n",
       " (('тысяча', 'человек'), 0.01051122790253225),\n",
       " (('действие', 'человек'), 0.009112709832134292),\n",
       " (('русский', 'человек'), 0.00887812752219532),\n",
       " (('человек', 'этот'), 0.00881488736532811),\n",
       " (('тот', 'человек'), 0.008625646923519264),\n",
       " (('человек', 'в'), 0.008231662501837425),\n",
       " (('другой', 'человек'), 0.007941550190597205),\n",
       " (('весь', 'человек'), 0.007567219449364031),\n",
       " (('великое', 'человек'), 0.00751503006012024),\n",
       " (('человек', 'с'), 0.007285089849441476)]"
      ]
     },
     "execution_count": 38,
     "metadata": {},
     "output_type": "execute_result"
    }
   ],
   "source": [
    "sorted_Dice[:15]"
   ]
  },
  {
   "cell_type": "code",
   "execution_count": 60,
   "metadata": {},
   "outputs": [
    {
     "data": {
      "text/plain": [
       "[(('пристрастный', 'человек'), 0.0005200208008320333),\n",
       " (('человек', 'свойственно'), 0.0005200208008320333),\n",
       " (('непраздничный', 'человек'), 0.0005200208008320333),\n",
       " (('человек', 'увлажать'), 0.0005200208008320333),\n",
       " (('человек', 'полыхнуть'), 0.0005200208008320333),\n",
       " (('раздраженно-оживлённый', 'человек'), 0.0005200208008320333),\n",
       " (('человек', 'углублённый'), 0.0005200208008320333),\n",
       " (('несамоуверенный', 'человек'), 0.0005200208008320333),\n",
       " (('болтливо-весёлый', 'человек'), 0.0005200208008320333),\n",
       " (('миллион-миллион', 'человек'), 0.0005200208008320333),\n",
       " (('человек', 'рифея'), 0.0005200208008320333),\n",
       " (('человек', 'смольянинов'), 0.0005200208008320333),\n",
       " (('шит', 'человек'), 0.0005200208008320333),\n",
       " (('добавочный', 'человек'), 0.0005200208008320333),\n",
       " (('человек', 'поделом'), 0.0005200208008320333)]"
      ]
     },
     "execution_count": 60,
     "metadata": {},
     "output_type": "execute_result"
    }
   ],
   "source": [
    "sorted_MI[:15]"
   ]
  },
  {
   "cell_type": "code",
   "execution_count": 61,
   "metadata": {},
   "outputs": [
    {
     "data": {
      "text/plain": [
       "1"
      ]
     },
     "execution_count": 61,
     "metadata": {},
     "output_type": "execute_result"
    }
   ],
   "source": [
    "bigram_counter[('человек', 'свойственно')]"
   ]
  },
  {
   "cell_type": "code",
   "execution_count": 66,
   "metadata": {},
   "outputs": [
    {
     "data": {
      "text/plain": [
       "1"
      ]
     },
     "execution_count": 66,
     "metadata": {},
     "output_type": "execute_result"
    }
   ],
   "source": [
    "lemma_counter['свойственно']"
   ]
  },
  {
   "cell_type": "code",
   "execution_count": 47,
   "metadata": {},
   "outputs": [
    {
     "data": {
      "text/plain": [
       "1923"
      ]
     },
     "execution_count": 47,
     "metadata": {},
     "output_type": "execute_result"
    }
   ],
   "source": [
    "lemma_counter['человек']"
   ]
  },
  {
   "cell_type": "code",
   "execution_count": null,
   "metadata": {},
   "outputs": [],
   "source": []
  }
 ],
 "metadata": {
  "kernelspec": {
   "display_name": "Python 3",
   "language": "python",
   "name": "python3"
  },
  "language_info": {
   "codemirror_mode": {
    "name": "ipython",
    "version": 3
   },
   "file_extension": ".py",
   "mimetype": "text/x-python",
   "name": "python",
   "nbconvert_exporter": "python",
   "pygments_lexer": "ipython3",
   "version": "3.6.8"
  }
 },
 "nbformat": 4,
 "nbformat_minor": 2
}
