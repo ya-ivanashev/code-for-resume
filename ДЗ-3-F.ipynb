{
 "cells": [
  {
   "cell_type": "code",
   "execution_count": 34,
   "metadata": {},
   "outputs": [
    {
     "name": "stderr",
     "output_type": "stream",
     "text": [
      "[nltk_data] Downloading package punkt to C:\\Users\\Ivanashev\n",
      "[nltk_data]     Ilya\\AppData\\Roaming\\nltk_data...\n",
      "[nltk_data]   Package punkt is already up-to-date!\n"
     ]
    }
   ],
   "source": [
    "import pymorphy2\n",
    "import string\n",
    "import nltk\n",
    "import collections\n",
    "from nltk.corpus import stopwords\n",
    "\n",
    "morph = pymorphy2.MorphAnalyzer()\n",
    "nltk.download('punkt')\n",
    "stopwords = set(stopwords.words('russian'))"
   ]
  },
  {
   "cell_type": "code",
   "execution_count": 87,
   "metadata": {},
   "outputs": [],
   "source": [
    "f = open('robot.txt', 'r')\n",
    "text = f.read()\n",
    "f.close()"
   ]
  },
  {
   "cell_type": "code",
   "execution_count": 88,
   "metadata": {},
   "outputs": [],
   "source": [
    "sentences = nltk.sent_tokenize(text)\n",
    "ans = []\n",
    "mean_freq = []\n",
    "translator = str.maketrans('', '', string.punctuation)\n",
    "words = text.translate(translator)\n",
    "tokens = nltk.word_tokenize(words)"
   ]
  },
  {
   "cell_type": "code",
   "execution_count": 89,
   "metadata": {},
   "outputs": [],
   "source": [
    "text_size = len(tokens)\n",
    "lemma_counter = collections.Counter()\n",
    "for token in tokens:\n",
    "    p = morph.parse(token)[0]\n",
    "    lemma_counter[p.normal_form] += 1\n",
    "\n",
    "for lemma in lemma_counter:\n",
    "    lemma_counter[lemma] /= text_size"
   ]
  },
  {
   "cell_type": "code",
   "execution_count": 90,
   "metadata": {},
   "outputs": [],
   "source": [
    "for j in range(5):\n",
    "    mean_freq.clear()\n",
    "    for i in range(len(sentences)):\n",
    "        if (j == 0):\n",
    "            ans.append(False)\n",
    "        num_of_words = 0\n",
    "        sum_freq = 0\n",
    "        words = sentences[i].translate(translator)\n",
    "        sentence = nltk.word_tokenize(words)\n",
    "        for token in sentence:\n",
    "            if (token not in stopwords):\n",
    "                p = morph.parse(token)[0]\n",
    "                sum_freq += lemma_counter[p.normal_form]\n",
    "                num_of_words += 1\n",
    "        mean_freq.append([sum_freq / num_of_words, i])\n",
    "    \n",
    "    mean_freq.sort(reverse = True)\n",
    "    k = 0\n",
    "    while (ans[mean_freq[k][1]] == True):\n",
    "        k += 1\n",
    "    ans[mean_freq[k][1]] = True\n",
    "    for token in sentences[mean_freq[k][1]]:\n",
    "        p = morph.parse(token)[0]\n",
    "        lemma_counter[p.normal_form] = lemma_counter[p.normal_form] ** 2"
   ]
  },
  {
   "cell_type": "code",
   "execution_count": 91,
   "metadata": {},
   "outputs": [
    {
     "name": "stdout",
     "output_type": "stream",
     "text": [
      "Японские инженеры создали четвероногого робота, способного ходить по горизонтальным поверхностям и взбираться по абсолютно вертикальным лестницам, причем он самостоятельно распознает поручни лестницы перед собой.\n",
      "Но даже они могут забраться лишь на наклонные лестницы, а не вертикальные.\n",
      "На конце ноги располагаются датчики силы и касания, а также защелка, позволяющая захватывать поручень на лестнице.\n",
      "При создании роботов, работающих с высокими препятствиями, применяют и другой подход.\n",
      "Он заключается в распределении обязанностей между роботом, эффективно перемещающимся по горизонтальным поверхностям, и дроном, способным взлетать на большую высоту.\n"
     ]
    }
   ],
   "source": [
    "for i in range(len(ans)):\n",
    "    if (ans[i]):\n",
    "        print(sentences[i])"
   ]
  },
  {
   "cell_type": "code",
   "execution_count": null,
   "metadata": {},
   "outputs": [],
   "source": []
  },
  {
   "cell_type": "code",
   "execution_count": 55,
   "metadata": {},
   "outputs": [],
   "source": []
  },
  {
   "cell_type": "code",
   "execution_count": null,
   "metadata": {},
   "outputs": [],
   "source": []
  },
  {
   "cell_type": "code",
   "execution_count": null,
   "metadata": {},
   "outputs": [],
   "source": []
  }
 ],
 "metadata": {
  "kernelspec": {
   "display_name": "Python 3",
   "language": "python",
   "name": "python3"
  },
  "language_info": {
   "codemirror_mode": {
    "name": "ipython",
    "version": 3
   },
   "file_extension": ".py",
   "mimetype": "text/x-python",
   "name": "python",
   "nbconvert_exporter": "python",
   "pygments_lexer": "ipython3",
   "version": "3.6.8"
  }
 },
 "nbformat": 4,
 "nbformat_minor": 2
}
